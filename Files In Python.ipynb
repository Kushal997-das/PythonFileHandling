{
 "cells": [
  {
   "cell_type": "markdown",
   "metadata": {},
   "source": [
    "# Why we need a file?\n",
    "Answer- Most of data and variable that we use are temporary in nature.If you do count something then you have to use varibale but that variable is temporary.Ofcourse the moment you close the application you will loose all the data.but,i want even i closed my application my data store somewhere .And That's why you need to find permanent storage.\n",
    "\n",
    "One of way is that you can use relational database (MySQL,Oracle) but these provide you table structure which is very complex stuff.\n",
    "\n",
    "If you want to store data for a longer peroid of time as well as simple way best way to go for Files.\n",
    "\n",
    "simply you can say Files are named locations on disk to store related information. They are used to permanently store data in a non-volatile memory (e.g. hard disk).\n",
    "Since Random Access Memory (RAM) is volatile (which loses its data when the computer is turned off), we use files for future use of the data by permanently storing them.\n",
    "\n",
    "in Python, a file operation takes place in the following order:\n",
    "\n",
    "1.Open a file\n",
    "2.Read or write (perform operation)\n",
    "3.Close the file\n"
   ]
  },
  {
   "cell_type": "markdown",
   "metadata": {},
   "source": [
    "# There are two types of files that can be handled in Python, normal text files and binary files (written in binary language, 0s and 1s).\n",
    "\n",
    "# Text files: \n",
    "In this type of file, Each line of text is terminated with a special character called EOL (End of Line), which is the new line character (‘\\n’) in Python by default.\n",
    "# Binary files:  \n",
    "In this type of file, there is no terminator for a line and the data is stored after converting it into machine-understandable binary language."
   ]
  },
  {
   "cell_type": "markdown",
   "metadata": {},
   "source": [
    "# Opening Files in Python\n",
    "Python has a built-in open() function to open a file. This function returns a file object, also called a handle, as it is used to read or modify the file accordingl\n",
    "Syntax:\n",
    "        file_name=open(\"filename.txt\",accessmode)#it takes two arguments.\n",
    "        "
   ]
  },
  {
   "cell_type": "markdown",
   "metadata": {},
   "source": [
    "# There are three access mode present in file -\n",
    "\n",
    "# 1.(r)-readmode:\n",
    "            ->only for reading the content.\n",
    "            ->file pointer points at the begining of the file.\n",
    "            ->File should exits before opining in read mode.\n",
    "            Syntax-\n",
    "            file_name=open(\"filename.txt\",\"r\")\n",
    "            \n",
    "# 2.(w)-writemode: \n",
    "            ->only for reading the content.\n",
    "            ->file pointer points at the begining of the file.\n",
    "                1.If the file exits the file will open and pointer point at the begining and the data will be overwritten.\n",
    "                2.If the file doesn't exits then new file will be created with the given file name.\n",
    "             Syntax-\n",
    "            file_name=open(\"filename.txt\",\"w\")   \n",
    "            \n",
    "# 3.(a)-appendmode:\n",
    "            ->to append and write the data.\n",
    "            ->If the file exits then file pointer points at the end and the content in the file.\n",
    "            ->If the file doesn't exits the New file will be created and file pointer points at the begining.\n",
    "#To know more click this link-https://www.youtube.com/watch?v=vuyb7CxZgbU&list=PLLOxZwkBK52DmuHRO3UNpqAzDF57FtIxk&index=35          "
   ]
  },
  {
   "cell_type": "code",
   "execution_count": 7,
   "metadata": {},
   "outputs": [
    {
     "name": "stdout",
     "output_type": "stream",
     "text": [
      "hello welcome\n"
     ]
    }
   ],
   "source": [
    "#https://www.youtube.com/watch?v=94ZqI4oQNc0&t=600s\n",
    "f1=open(\"hello.txt\",\"w\")\n",
    "f1.write(\"hello welcome\")\n",
    "f1.close()\n",
    "f2=open(\"hello.txt\",'r')\n",
    "#print(f2.read(2))\n",
    "#f1.close()\n",
    "print(f2.read())"
   ]
  },
  {
   "cell_type": "code",
   "execution_count": 6,
   "metadata": {},
   "outputs": [
    {
     "data": {
      "text/plain": [
       "'C:\\\\Users\\\\Kushal'"
      ]
     },
     "execution_count": 6,
     "metadata": {},
     "output_type": "execute_result"
    }
   ],
   "source": [
    "#To know yoyr current directory\n",
    "import os\n",
    "os.getcwd()"
   ]
  },
  {
   "cell_type": "code",
   "execution_count": null,
   "metadata": {},
   "outputs": [],
   "source": [
    "help(open)"
   ]
  }
 ],
 "metadata": {
  "kernelspec": {
   "display_name": "Python 3",
   "language": "python",
   "name": "python3"
  },
  "language_info": {
   "codemirror_mode": {
    "name": "ipython",
    "version": 3
   },
   "file_extension": ".py",
   "mimetype": "text/x-python",
   "name": "python",
   "nbconvert_exporter": "python",
   "pygments_lexer": "ipython3",
   "version": "3.7.4"
  }
 },
 "nbformat": 4,
 "nbformat_minor": 2
}
